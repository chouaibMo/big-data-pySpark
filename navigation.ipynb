{
 "cells": [
  {
   "cell_type": "markdown",
   "metadata": {},
   "source": [
    "# LAB BIG DATA : Introduction to Spark\n",
    "### Author : Chouaib Mounaime"
   ]
  },
  {
   "cell_type": "markdown",
   "metadata": {},
   "source": [
    "## Importing packages and Initializing SparkContext"
   ]
  },
  {
   "cell_type": "code",
   "execution_count": 3,
   "metadata": {},
   "outputs": [],
   "source": [
    "import sys\n",
    "from pyspark import SparkContext\n",
    "from timeit import default_timer as timer\n",
    "import time\n",
    "import math\n",
    "\n",
    "# start spark with 1 worker thread\n",
    "sc = SparkContext(\"local[1]\")\n",
    "sc.setLogLevel(\"ERROR\")\n",
    "\n"
   ]
  },
  {
   "cell_type": "markdown",
   "metadata": {},
   "source": [
    "## Definition of function used in this lab "
   ]
  },
  {
   "cell_type": "code",
   "execution_count": 4,
   "metadata": {},
   "outputs": [],
   "source": [
    "# Finds out the index of \"name\" in the array firstLine \n",
    "# returns -1 if it cannot find it\n",
    "def findCol(firstLine, name):\n",
    "\tif name in firstLine:\n",
    "\t\treturn firstLine.index(name)\n",
    "\telse:\n",
    "\t\treturn -1\n",
    "    \n",
    "    \n",
    "# Remove quotes around a string\n",
    "# And convert it to lowercase\n",
    "# Used in question 6 and 8 (to have places names with the same format)\n",
    "def stringFormat(str):\n",
    "    return str.replace('\"','').lower()\n",
    "\n",
    "# Round a float number with n decimal\n",
    "# Used in question 9 (to round the temperature value)\n",
    "def truncate(f, n):\n",
    "    return math.floor(f * 10 ** n) / 10 ** n\n",
    "    "
   ]
  },
  {
   "cell_type": "markdown",
   "metadata": {},
   "source": [
    "## Importing, splitting and caching Dataset "
   ]
  },
  {
   "cell_type": "code",
   "execution_count": 5,
   "metadata": {},
   "outputs": [
    {
     "data": {
      "text/plain": [
       "PythonRDD[3] at RDD at PythonRDD.scala:53"
      ]
     },
     "execution_count": 5,
     "metadata": {},
     "output_type": "execute_result"
    }
   ],
   "source": [
    "#### Driver program\n",
    "\n",
    "\n",
    "# read the input file into an RDD[String]\n",
    "wholeFile = sc.textFile(\"./data/CLIWOC15.csv\")\n",
    "\n",
    "# The first line of the file defines the name of each column in the cvs file\n",
    "# We store it as an array in the driver program\n",
    "firstLine = wholeFile.filter(lambda x: \"RecID\" in x).collect()[0].replace('\"','').split(',')\n",
    "\n",
    "# filter out the first line from the initial RDD\n",
    "entries = wholeFile.filter(lambda x: not (\"RecID\" in x))\n",
    "\n",
    "# split each line into an array of items\n",
    "entries = entries.map(lambda x : x.split(','))\n",
    "\n",
    "# keep the RDD in memory\n",
    "entries.cache()"
   ]
  },
  {
   "cell_type": "markdown",
   "metadata": {},
   "source": [
    "## 1. New version : ignoring white-space :"
   ]
  },
  {
   "cell_type": "code",
   "execution_count": 6,
   "metadata": {},
   "outputs": [
    {
     "name": "stdout",
     "output_type": "stream",
     "text": [
      "Nationality corresponds to column 20\n",
      "A few examples of nationalities:\n",
      "\"American\"\n",
      "\"British\"\n",
      "\"Danish\"\n",
      "\"Dutch\"\n",
      "\"French\"\n"
     ]
    }
   ],
   "source": [
    "##### Create an RDD that contains all nationalities observed in the\n",
    "##### different entries\n",
    "\n",
    "# Information about the nationality is provided in the column named\n",
    "# \"Nationality\"\n",
    "\n",
    "# First find the index of the column corresponding to the \"Nationality\"\n",
    "column_index=findCol(firstLine, \"Nationality\")\n",
    "print(\"{} corresponds to column {}\".format(\"Nationality\", column_index))\n",
    "\n",
    "# Use 'map' to create a RDD with all nationalities and 'distinct' to remove duplicates\n",
    "nationalities = entries.map(lambda x: x[column_index])\n",
    "nationalities = nationalities.map(lambda x: x.replace(\" \", \"\")).distinct()\n",
    "\n",
    "# Display the 5 first nationalities\n",
    "print(\"A few examples of nationalities:\")\n",
    "for elem in nationalities.sortBy(lambda x: x).take(5):\n",
    "    print(elem)"
   ]
  },
  {
   "cell_type": "markdown",
   "metadata": {},
   "source": [
    "## 2. Count the total number of observations included in the dataset :"
   ]
  },
  {
   "cell_type": "code",
   "execution_count": 7,
   "metadata": {},
   "outputs": [
    {
     "name": "stdout",
     "output_type": "stream",
     "text": [
      "the total number of observations : 280280\n"
     ]
    }
   ],
   "source": [
    "#Entries is an RDD which contains all the lines expect the first one\n",
    "nbObservations = entries.count()\n",
    "\n",
    "print('the total number of observations :',nbObservations)"
   ]
  },
  {
   "cell_type": "markdown",
   "metadata": {},
   "source": [
    "## 3. counting the number of years over which observations have been made"
   ]
  },
  {
   "cell_type": "code",
   "execution_count": 78,
   "metadata": {},
   "outputs": [
    {
     "name": "stdout",
     "output_type": "stream",
     "text": [
      "the number of years : 118\n"
     ]
    }
   ],
   "source": [
    "#Getting the index of the column \"Year\" in the first line\n",
    "year_index = findCol(firstLine, \"Year\")   # ==> 40\n",
    "\n",
    "#Extract the Year on each entry \n",
    "years = entries.map(lambda x: x[year_index])\n",
    "\n",
    "#Filtering observations with \"NA\" value,\n",
    "#and keep only distinct observations\n",
    "years = years.filter(lambda x: x != \"NA\").distinct()\n",
    "\n",
    "#Counting number of years\n",
    "nb_years = years.count()\n",
    "\n",
    "print('the number of years :',nb_years)"
   ]
  },
  {
   "cell_type": "markdown",
   "metadata": {},
   "source": [
    "## 4. Display the oldest and the newest year of observation"
   ]
  },
  {
   "cell_type": "code",
   "execution_count": 79,
   "metadata": {},
   "outputs": [
    {
     "name": "stdout",
     "output_type": "stream",
     "text": [
      "the oldest year : 1662\n",
      "the newest year : 1855\n"
     ]
    }
   ],
   "source": [
    "##Using min and max actions\n",
    "oldest = years.min()\n",
    "newest = years.max()\n",
    "\n",
    "print('the oldest year :',oldest)\n",
    "print('the newest year :',newest)"
   ]
  },
  {
   "cell_type": "markdown",
   "metadata": {},
   "source": [
    "# 5. Display the years with the minimum and the maximum number of observations (and the corresponding number of observations)"
   ]
  },
  {
   "cell_type": "code",
   "execution_count": 80,
   "metadata": {},
   "outputs": [
    {
     "name": "stdout",
     "output_type": "stream",
     "text": [
      "the minimum number of observations was in : ('1747', 4)\n",
      "the maximum number of observations was in : ('1778', 8509)\n"
     ]
    }
   ],
   "source": [
    "#new copy of the years \n",
    "#and filtering \"NA\" values\n",
    "year_observations = entries.map(lambda x: x[year_index])\n",
    "year_observations = year_observations.filter(lambda x: x != \"NA\")\n",
    "\n",
    "#creation a tuples for each observation with value 1\n",
    "year_observations = year_observations.map(lambda x: (x, 1))\n",
    "\n",
    "#group tuples by key (the year) then count the size of each group\n",
    "year_observations = year_observations.groupByKey().mapValues(len)\n",
    "\n",
    "max_observations = year_observations.sortBy(lambda x: -x[1]).first()\n",
    "min_observations = year_observations.sortBy(lambda x: x[1]).first()\n",
    "\n",
    "print('the minimum number of observations was in :',min_observations)\n",
    "print('the maximum number of observations was in :',max_observations)"
   ]
  },
  {
   "cell_type": "markdown",
   "metadata": {},
   "source": [
    "# 6. Count the distinct departure places (column \"VoyageFrom\") using two methods (i.e., using the function distinct() or reduceByKey()) and compare the execution time."
   ]
  },
  {
   "cell_type": "code",
   "execution_count": 81,
   "metadata": {},
   "outputs": [],
   "source": [
    "#getting the index of the column \"VoyageFrom\" in the first line\n",
    "departure_index = findCol(firstLine, \"VoyageFrom\")   # ==> 14\n",
    "\n",
    "#extract the departure place on each entry \n",
    "departure_places = entries.map(lambda x: x[departure_index])\n",
    "\n",
    "#filtering \"NA\" values\n",
    "departure_places = departure_places.filter(lambda x: x != 'NA')\n",
    "\n",
    "#convert to lowercase and remove quotes around (see StringFormat above)\n",
    "departure_places = departure_places.map(lambda x: stringFormat(x))"
   ]
  },
  {
   "cell_type": "markdown",
   "metadata": {},
   "source": [
    "## 6.1 Using the function distinct()"
   ]
  },
  {
   "cell_type": "code",
   "execution_count": 82,
   "metadata": {},
   "outputs": [
    {
     "name": "stdout",
     "output_type": "stream",
     "text": [
      "counted with distinct : 974\n",
      "elapsed time : 4.1 sec.\n"
     ]
    }
   ],
   "source": [
    "start = timer()\n",
    "count1 = departure_places.distinct().count()\n",
    "end = timer()\n",
    "\n",
    "print('counted with distinct :', count1)\n",
    "print('elapsed time :', truncate(end - start,2),'sec.')"
   ]
  },
  {
   "cell_type": "markdown",
   "metadata": {},
   "source": [
    "## 6.2 Using the function reduceByKey()"
   ]
  },
  {
   "cell_type": "code",
   "execution_count": 83,
   "metadata": {},
   "outputs": [
    {
     "name": "stdout",
     "output_type": "stream",
     "text": [
      "counted with reduceByKey : 974\n",
      "elapsed time : 0.04 sec.\n"
     ]
    }
   ],
   "source": [
    "start = timer()\n",
    "pairs = departure_places.map(lambda x: (x, 1))\n",
    "count2 = pairs.reduceByKey(lambda a, b: a + b)\n",
    "end = timer()\n",
    "\n",
    "print('counted with reduceByKey :', count1)\n",
    "print('elapsed time :', truncate(end - start,2),'sec.')"
   ]
  },
  {
   "cell_type": "markdown",
   "metadata": {},
   "source": [
    "By comparing execution times, we can conclude that the **recudeByKey** method is almost **20 times faster** than the **distinct** method. "
   ]
  },
  {
   "cell_type": "markdown",
   "metadata": {},
   "source": [
    "## 7. Display the 10 most popular departure places"
   ]
  },
  {
   "cell_type": "code",
   "execution_count": 88,
   "metadata": {},
   "outputs": [
    {
     "name": "stdout",
     "output_type": "stream",
     "text": [
      "the 10 most popular departure places are :\n",
      "\t- batavia :\t 25920\n",
      "\t- la coruña :\t 16120\n",
      "\t- montevideo :\t 11625\n",
      "\t- rotterdam :\t 9757\n",
      "\t- nederland :\t 8697\n",
      "\t- spithead :\t 8298\n",
      "\t- la habana :\t 7906\n",
      "\t- cádiz :\t 7522\n",
      "\t- nieuwediep :\t 6713\n",
      "\t- texel :\t 6445\n"
     ]
    }
   ],
   "source": [
    "#creating a tuple for each place observation with value 1\n",
    "##Using departures RDD created previously\n",
    "places_tuples = departure_places.map(lambda x: (x, 1))\n",
    "\n",
    "#group tuples by key (the year) then count the size of each group\n",
    "places_tuples = places_tuples.reduceByKey(lambda a, b: a + b).sortBy(lambda x: -x[1])\n",
    "\n",
    "print('the 10 most popular departure places are :')\n",
    "for place in places_tuples.take(10):\n",
    "    print(f'\\t- {place[0]} :\\t {place[1]}')"
   ]
  },
  {
   "cell_type": "markdown",
   "metadata": {},
   "source": [
    "## 8. Display the 10 roads (defined by a pair \"VoyageFrom\" and \"VoyageTo\") the most often taken."
   ]
  },
  {
   "cell_type": "markdown",
   "metadata": {},
   "source": [
    "## Version 1 : version where a pair A-B and a pair B-A correspond to different roads\n",
    "### NB : We assume that pairs where (departure place = destination place) are not considered as a road"
   ]
  },
  {
   "cell_type": "code",
   "execution_count": 89,
   "metadata": {},
   "outputs": [
    {
     "name": "stdout",
     "output_type": "stream",
     "text": [
      "The 10 road most often taken :\n",
      "\t- ('la coruña', 'montevideo') \t 8514 times\n",
      "\t- ('montevideo', 'la coruña') \t 8459 times\n",
      "\t- ('la coruña', 'la habana') \t 7525 times\n",
      "\t- ('rotterdam', 'batavia') \t 7341 times\n",
      "\t- ('la habana', 'la coruña') \t 6068 times\n",
      "\t- ('batavia', 'rotterdam') \t 5256 times\n",
      "\t- ('nieuwediep', 'batavia') \t 5256 times\n",
      "\t- ('batavia', 'nieuwediep') \t 4564 times\n",
      "\t- ('nederland', 'batavia') \t 3996 times\n",
      "\t- ('batavia', 'nederland') \t 3534 times\n"
     ]
    }
   ],
   "source": [
    "voyageFrom_index = findCol(firstLine, \"VoyageFrom\")  #  ==> 14\n",
    "voyageTo_index   = findCol(firstLine, \"VoyageTo\")    #  ==> 15\n",
    "\n",
    "# RDD of pair (from,to) of places\n",
    "# We format places at this step (to lowercase and removed quotes)\n",
    "# This RDD will be used for the VERSION 2.\n",
    "roads = entries.map( \n",
    "    lambda x: (\n",
    "               stringFormat(x[voyageFrom_index]) ,       \n",
    "               stringFormat(x[voyageTo_index])\n",
    "              ))\n",
    "\n",
    "# Filtering \"na\" values (not \"NA\" because we converted roads to lowercase)\n",
    "# Filtering road where departure place is equal to destination place\n",
    "# This RDD will be used for the VERSION 2.\n",
    "roads = roads.filter(lambda x: x[0] != 'na' and x[1] != 'na' and x[0] != x[1])\n",
    "\n",
    "roads1 = roads.map(lambda x: (x, 1))\n",
    "roads1 = roads1.reduceByKey(lambda a, b : a+b).sortBy(lambda x: -x[1])\n",
    "\n",
    "print(\"The 10 road most often taken :\")\n",
    "for road, nb in roads1.take(10):\n",
    "    print('\\t-',road,'\\t', nb, 'times')"
   ]
  },
  {
   "cell_type": "markdown",
   "metadata": {},
   "source": [
    "## Version 2 : version where A-B and B-A are considered as the same road"
   ]
  },
  {
   "cell_type": "code",
   "execution_count": 90,
   "metadata": {},
   "outputs": [
    {
     "name": "stdout",
     "output_type": "stream",
     "text": [
      "The 10 road most often taken :\n",
      "\t- ('la coruña', 'montevideo') \t 16973 times\n",
      "\t- ('la coruña', 'la habana') \t 13593 times\n",
      "\t- ('batavia', 'rotterdam') \t 12597 times\n",
      "\t- ('batavia', 'nieuwediep') \t 9820 times\n",
      "\t- ('batavia', 'nederland') \t 7530 times\n",
      "\t- ('batavia', 'texel') \t 3998 times\n",
      "\t- ('amsterdam', 'batavia') \t 3164 times\n",
      "\t- ('batavia', 'hellevoetsluis') \t 2661 times\n",
      "\t- ('cádiz', 'montevideo') \t 2231 times\n",
      "\t- ('cádiz', 'la habana') \t 1668 times\n"
     ]
    }
   ],
   "source": [
    "# Here we use the RDD roads computed above.\n",
    "# Storing road pairs according to the alphabetical order\n",
    "# x ==> ( (minPlace, maxPlace), 1 )\n",
    "roads2 = roads.map(lambda x: ((min(x[0], x[1]), max(x[0], x[1])), 1) )\n",
    "\n",
    "# Now we can reduce by key without having redundant roads \n",
    "roads2 = roads2.reduceByKey(lambda a, b : a+b).sortBy(lambda x: -x[1])\n",
    "\n",
    "print(\"The 10 road most often taken :\")\n",
    "for road, nb in roads2.take(10):\n",
    "    print('\\t-',road,'\\t', nb, 'times')"
   ]
  },
  {
   "cell_type": "markdown",
   "metadata": {},
   "source": [
    "## 9. Compute the hottest month (defined by column \"Month\") on average over the years considering all temperatures (column \"ProbTair\") reported in the dataset"
   ]
  },
  {
   "cell_type": "code",
   "execution_count": 91,
   "metadata": {},
   "outputs": [
    {
     "name": "stdout",
     "output_type": "stream",
     "text": [
      "the hottest month is : month 2 with 22.9 °C\n",
      "\n",
      "all months ordered by average temperature :\n",
      "\t- month : 2\tavg temp : 22.9 °C\n",
      "\t- month : 1\tavg temp : 22.8 °C\n",
      "\t- month : 11\tavg temp : 22.6 °C\n",
      "\t- month : 10\tavg temp : 22.6 °C\n",
      "\t- month : 3\tavg temp : 22.5 °C\n",
      "\t- month : 4\tavg temp : 22.4 °C\n",
      "\t- month : 5\tavg temp : 22.3 °C\n",
      "\t- month : 9\tavg temp : 22.2 °C\n",
      "\t- month : 8\tavg temp : 22.2 °C\n",
      "\t- month : 12\tavg temp : 22.2 °C\n",
      "\t- month : 6\tavg temp : 22.0 °C\n",
      "\t- month : 7\tavg temp : 21.8 °C\n"
     ]
    }
   ],
   "source": [
    "months_index = findCol(firstLine, 'Month')\n",
    "probTair_index = findCol(firstLine, 'ProbTair')\n",
    "\n",
    "# For each entry in the dataset, we create a tuple with the month and probtair\n",
    "temperatures = entries.map(lambda x: (x[months_index], x[probTair_index]))\n",
    "\n",
    "# Filtering 'NA' value\n",
    "temperatures = temperatures.filter(lambda x: x[0] != 'NA' and x[1] != 'NA')\n",
    "\n",
    "# Cast month and probtair values from String to Int/Float to use arithmetic operations (addition, division ...)\n",
    "# x ==> (month, (probtair,1) )\n",
    "temperatures = temperatures.map(lambda x: (int(x[0]), (float(x[1]), 1)))\n",
    "\n",
    "# Computing the sum of probtair and the sum of observations of each month\n",
    "temperatures = temperatures.reduceByKey(lambda x, y: (x[0] + y[0], x[1] + y[1])) \n",
    "\n",
    "# Computing the average temperature for each month\n",
    "# We divide the sum of the temperature for each month by the total number of probtair observations for the same month\n",
    "# x[0]    == the month\n",
    "# x[1][0] == the sum of probtair for this month\n",
    "# x[1][1] == the sum of probtair observations for this month\n",
    "temperatures = temperatures.map(lambda x: (x[0], x[1][0] / x[1][1])).sortBy(lambda x: -x[1])\n",
    "\n",
    "\n",
    "month, temp = temperatures.first()\n",
    "print(f'the hottest month is : month {month} with {truncate(temp,1)} °C\\n')\n",
    "\n",
    "print(f'all months ordered by average temperature :')\n",
    "for month, temp in temperatures.collect():\n",
    "    print(f'\\t- month : {month}\\tavg temp : {truncate(temp,1)} °C')"
   ]
  }
 ],
 "metadata": {
  "kernelspec": {
   "display_name": "Python 3",
   "language": "python",
   "name": "python3"
  },
  "language_info": {
   "codemirror_mode": {
    "name": "ipython",
    "version": 3
   },
   "file_extension": ".py",
   "mimetype": "text/x-python",
   "name": "python",
   "nbconvert_exporter": "python",
   "pygments_lexer": "ipython3",
   "version": "3.8.6"
  }
 },
 "nbformat": 4,
 "nbformat_minor": 4
}
